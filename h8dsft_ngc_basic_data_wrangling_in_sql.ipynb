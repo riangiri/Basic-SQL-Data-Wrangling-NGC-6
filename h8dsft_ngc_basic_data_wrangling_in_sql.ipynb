{
  "nbformat": 4,
  "nbformat_minor": 0,
  "metadata": {
    "colab": {
      "provenance": []
    },
    "kernelspec": {
      "name": "python3",
      "display_name": "Python 3"
    },
    "language_info": {
      "name": "python"
    }
  },
  "cells": [
    {
      "cell_type": "code",
      "execution_count": 4,
      "metadata": {
        "id": "-x-Sqt4tkbQh"
      },
      "outputs": [],
      "source": [
        "from google.colab import auth\n",
        "from google.cloud import bigquery\n",
        "import pandas as pd"
      ]
    },
    {
      "cell_type": "code",
      "source": [
        "auth.authenticate_user()\n",
        "project_id = \"NGC-6-Project\"\n",
        "client1 = bigquery.Client(project=project_id)"
      ],
      "metadata": {
        "id": "rKY1jhB-kgi1"
      },
      "execution_count": 5,
      "outputs": []
    },
    {
      "cell_type": "markdown",
      "source": [
        "**Information**\n",
        "\n",
        "You will use **austin_bikeshare** dataset from Google BigQuery Public Dataset."
      ],
      "metadata": {
        "id": "0LBHPdApsPDg"
      }
    },
    {
      "cell_type": "markdown",
      "source": [
        "**Task 1**\n",
        "\n",
        "QUERY 1 = Create a query to answer the following questions :\n",
        "\n",
        "    1A. How many tables are in the austin_bikeshare dataset?\n",
        "    1B. How many columns in the bikeshare_stations table have STRING data?"
      ],
      "metadata": {
        "id": "h069eArVnV4W"
      }
    },
    {
      "cell_type": "markdown",
      "source": [
        "**ANSWER QUERY 1**"
      ],
      "metadata": {
        "id": "-FhkPBl5rV0P"
      }
    },
    {
      "cell_type": "code",
      "source": [
        "# 1A Query =\n",
        "\"\"\"\n",
        "SELECT table_name\n",
        "FROM `bigquery-public-data.austin_bikeshare.INFORMATION_SCHEMA.COLUMN_FIELD_PATHS`\n",
        "\"\"\"\n",
        "# query_job = client.query(query).to_dataframe()\n",
        "# query_job\n",
        "\n",
        "# 1B Query =\n",
        "\"\"\"\n",
        "SELECT table_name, data_type\n",
        "FROM `bigquery-public-data.austin_bikeshare.INFORMATION_SCHEMA.COLUMN_FIELD_PATHS`\n",
        "WHERE data_type ='STRING'\n",
        "\"\"\""
      ],
      "metadata": {
        "id": "H11bQwVZ97Te"
      },
      "execution_count": null,
      "outputs": []
    },
    {
      "cell_type": "markdown",
      "source": [
        "**TASK 1**\n",
        "\n",
        "QUERY 2 = Create a query to filter data based on the following conditions :\n",
        "\n",
        "    2A. Retrieve all trips where the bike_id is not null and the duration is greater than 1000 minutes.\n",
        "    2B. Filter trips where the trip_id is \"Walk Up\" and the end_station_name  is \"Stolen\""
      ],
      "metadata": {
        "id": "3aaS3Hi0rR1n"
      }
    },
    {
      "cell_type": "markdown",
      "source": [
        "**ANSWER QUERY 2**"
      ],
      "metadata": {
        "id": "0DDqPhR2rvA_"
      }
    },
    {
      "cell_type": "code",
      "source": [
        "# Query 2A =\n",
        "SELECT [bike_id]\n",
        "FROM `bigquery-public-data.austin_bikeshare.bikeshare_trips`\n",
        "WHERE duration_minutes >1000\n",
        "\n",
        "# Query 2B =\n",
        "SELECT [trip_id]\n",
        "FROM\n",
        "WHERE duration\n",
        "\n",
        "# query_job2 = client.query(query2).to_dataframe()\n",
        "# query_job2\n"
      ],
      "metadata": {
        "id": "q_iQWyTh9sAn",
        "colab": {
          "base_uri": "https://localhost:8080/",
          "height": 140
        },
        "outputId": "570d20e4-910d-4eb5-8c7e-fb0c27186ab9"
      },
      "execution_count": 6,
      "outputs": [
        {
          "output_type": "error",
          "ename": "SyntaxError",
          "evalue": "invalid syntax (<ipython-input-6-f7adcf1edc97>, line 4)",
          "traceback": [
            "\u001b[0;36m  File \u001b[0;32m\"<ipython-input-6-f7adcf1edc97>\"\u001b[0;36m, line \u001b[0;32m4\u001b[0m\n\u001b[0;31m    FROM `bigquery-public-data.austin_bikeshare.bikeshare_trips`\u001b[0m\n\u001b[0m         ^\u001b[0m\n\u001b[0;31mSyntaxError\u001b[0m\u001b[0;31m:\u001b[0m invalid syntax\n"
          ]
        }
      ]
    }
  ]
}